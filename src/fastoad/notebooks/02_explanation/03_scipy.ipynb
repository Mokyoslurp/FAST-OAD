{
 "cells": [
  {
   "cell_type": "markdown",
   "id": "c938c101",
   "metadata": {},
   "source": [
    "<div class=\"row\">\n",
    "  <div class=\"column\">\n",
    "    <img src=\"./img/logo-onera.png\" width=\"200\">\n",
    "  </div>\n",
    "  <div class=\"column\">\n",
    "    <img src=\"./img/logo-ISAE_SUPAERO.png\" width=\"200\">\n",
    "  </div>\n",
    "</div>"
   ]
  },
  {
   "cell_type": "markdown",
   "id": "03eb76e1",
   "metadata": {},
   "source": [
    "# Using Python package\n",
    "\n",
    "In this notebook, we will show you how to use a more advanced python package called SciPy to solve the MDA and MDO problem using the same models, and the same implementation as in [notebook n°2](02_pure_python.ipynb). The models are described in detail in said notebook and they won't be re-explained here. The reader is encouraged to open the notebook in case there is a question on the models.\n",
    "\n",
    "## Solving the MDA \n",
    "\n",
    "In order to solve the MDA, we will used the `fsolve` function from the `scipy.optimize` package (documentation is available [here](https://docs.scipy.org/doc/scipy/index.html)). The `fsolve` function will solve the equation f(x)=0 so we will need to change slightly the implementation. We will define the function that computes, for a given **MTOW**, the difference between the updated **MTOW** and the actual **MTOW**, which is similar to how we solve the dichotomy problem from the first notebook, and feed this function to the `fsolve` function.\n",
    "\n",
    "Let's start by redefining the constant from the MDA that we had in the previous notebook."
   ]
  },
  {
   "cell_type": "code",
   "execution_count": null,
   "id": "7803f21d",
   "metadata": {},
   "outputs": [],
   "source": [
    "# Let's start by defining the characteristics related to ...\n",
    "\n",
    "# ... the geometry\n",
    "wing_loading = 115.0  # in kg/m2\n",
    "aspect_ratio = 10.0  # no unit\n",
    "\n",
    "# ... the target mission\n",
    "cruise_altitude = 2500.0  # in m\n",
    "cruise_speed = 80.0  # in m/s\n",
    "mission_range = 1389000.0  # in m, 750 nm\n",
    "payload = 320.0  # in kg, corresponds to 4 passengers of 80 kg\n",
    "\n",
    "# ... the propulsion technology\n",
    "tsfc = 7.3e-6  # in kg/N/s"
   ]
  },
  {
   "cell_type": "markdown",
   "id": "059150e9",
   "metadata": {},
   "source": [
    "Now, let's define the function to solve, as previously said, we will define it so that when this function equals to zero, we will have a converged aircraft."
   ]
  },
  {
   "cell_type": "code",
   "execution_count": null,
   "id": "8ae31074",
   "metadata": {},
   "outputs": [],
   "source": [
    "from modules.pure_python.mtow_loop import mtow_loop\n",
    "\n",
    "\n",
    "def MTOW_to_solve(\n",
    "    mtow, aspect_ratio, wing_loading, cruise_altitude, cruise_speed, mission_range, payload, tsfc\n",
    "):\n",
    "\n",
    "    MTOW_diff = (\n",
    "        mtow_loop(\n",
    "            mtow,\n",
    "            aspect_ratio,\n",
    "            wing_loading,\n",
    "            cruise_altitude,\n",
    "            cruise_speed,\n",
    "            mission_range,\n",
    "            payload,\n",
    "            tsfc,\n",
    "        )\n",
    "        - mtow\n",
    "    )\n",
    "\n",
    "    return MTOW_diff"
   ]
  },
  {
   "cell_type": "markdown",
   "id": "7ea24057",
   "metadata": {},
   "source": [
    "The reader will notice that even if we only want to solve for the **MTOW**, we still have to pass every argument that the `mtow_loop` functions needs even if there are constant. Luckily `fsolve` allows to pass arguments that do not vary for the resolution of the problem. Let's then find the **MTOW** that gives us a converged aircraft !"
   ]
  },
  {
   "cell_type": "code",
   "execution_count": null,
   "id": "80037978",
   "metadata": {},
   "outputs": [],
   "source": [
    "from scipy.optimize import fsolve\n",
    "import numpy as np\n",
    "\n",
    "# Let's use fsolve in the most simple way possible\n",
    "initial_guess = 500.0\n",
    "\n",
    "MTOW_result = fsolve(\n",
    "    MTOW_to_solve,  # Giving the name of the function we want to solve\n",
    "    initial_guess,  # The initial guess for the solution\n",
    "    args=(\n",
    "        aspect_ratio,\n",
    "        wing_loading,\n",
    "        cruise_altitude,\n",
    "        cruise_speed,\n",
    "        mission_range,\n",
    "        payload,\n",
    "        tsfc,\n",
    "    ),  # The arguments that won't vary during the problem\n",
    "    xtol=0.01,  # The relative error between two iterations of the problem\n",
    ")\n",
    "\n",
    "print(\"Result for the MTOW :\", float(np.round(MTOW_result, 1)), \"kg\")"
   ]
  },
  {
   "cell_type": "markdown",
   "id": "01d355c8",
   "metadata": {},
   "source": [
    "The result is very close to the first one even though the tolerance aren't. Indeed, the first method used absolute difference, here because of `fsolve`, it is a relative error. \n",
    "\n",
    "Let's now move on to the MDO problem.\n",
    "\n",
    "## MDO solving\n",
    "\n",
    "As in the first notebook, we will here try to find the aspect ratio that gives the least fuel consumed on the design mission. To do that we will first use the same simple method as in the first notebook (meaning exploring a range of aspect ratio, solving the problem, this time with fsolve, and then see which **AR** gives the lowest fuel consumed), and then use another functionnality of `scipy.optimize` called `minimize`.\n",
    "\n",
    "Let's start with the simple method. For the computation of the fuel consumption and to avoid having to write a new function, we will reuse the `mtow_and_fuel_loop` and only keep the second returned variable which correspond to the fuel consumed. We must however be sure to use a converged **MTOW** as its input for the result to be realistic."
   ]
  },
  {
   "cell_type": "code",
   "execution_count": null,
   "id": "38806f39",
   "metadata": {},
   "outputs": [],
   "source": [
    "from modules.pure_python.mtow_and_fuel_loop import mtow_and_fuel_loop\n",
    "import plotly.graph_objects as go\n",
    "\n",
    "AR_array = np.linspace(1.0, 20.0, 100)\n",
    "fuel_result = np.zeros_like(AR_array)\n",
    "\n",
    "for aspect_ratio in AR_array:\n",
    "    mtow = fsolve(\n",
    "        MTOW_to_solve,  # Giving the name of the function we want to solve\n",
    "        initial_guess,  # The initial guess for the solution\n",
    "        args=(\n",
    "            aspect_ratio,\n",
    "            wing_loading,\n",
    "            cruise_altitude,\n",
    "            cruise_speed,\n",
    "            mission_range,\n",
    "            payload,\n",
    "            tsfc,\n",
    "        ),  # The arguments that won't vary during the problem\n",
    "        xtol=0.01,  # The relative error between two iterations of the problem\n",
    "    )\n",
    "\n",
    "    # We are here using the function from the previous notebook that jointly computes\n",
    "    # the MTOW and the fuel consumption. Since the MTOW has already converged, we will\n",
    "    # only extract the fuel which corresponds to the fuel on the sizing mission\n",
    "    fuel_result[np.where(AR_array == aspect_ratio)[0]] = mtow_and_fuel_loop(\n",
    "        mtow,\n",
    "        aspect_ratio,\n",
    "        wing_loading,\n",
    "        cruise_altitude,\n",
    "        cruise_speed,\n",
    "        mission_range,\n",
    "        payload,\n",
    "        tsfc,\n",
    "    )[1]\n",
    "\n",
    "\n",
    "# Plot results\n",
    "fig = go.Figure()\n",
    "fuel_optim_scatter = go.Scatter(x=AR_array, y=fuel_result, mode=\"lines\")\n",
    "fig.add_trace(fuel_optim_scatter)\n",
    "fig.layout = go.Layout(height=800, title_text=\"Mission fuel optimization\", title_x=0.5)\n",
    "fig.update_yaxes(constrain=\"domain\", title=\"Mission fuel [kg]\")\n",
    "fig.update_xaxes(constrain=\"domain\", title=\"Aspect ratio [-]\")\n",
    "fig.show()\n",
    "\n",
    "min_fuel_AR = AR_array[np.where(fuel_result == np.min(fuel_result))[0]]\n",
    "print(\"The aspect ratio which gives the minimum MTOW is \", np.round(min_fuel_AR[0], 1))\n",
    "print(\"The corresponding fuel consumption is \", np.round(np.min(fuel_result), 1), \"kg\")"
   ]
  },
  {
   "cell_type": "markdown",
   "id": "3f7efbc4",
   "metadata": {},
   "source": [
    "As for the MDA, we have the same results as in the [previous notebook](02_pure_python.ipynb), which is a good sign.\n",
    "\n",
    "Let's now move on to solving this problem using the `minimize` function from `scipy.optimize`. This function can find the minimum of the function given with respect to design variables. Since we want to minimize the fuel consumption based on the aspect ratio we will give it a function that outputs the fuel consumed on the mission and which has the aspect ratio as the design variable. \n",
    "\n",
    "The issue however, is that as the aspect ratio varies so will the **MTOW**, so we will also need to resize the aircraft for each **AR**. For the sake of this exercise this can be seen as a constraint to our optimization. So, as an added constraint to our problem, we will tell the `minimize` function that it can modify the aspect ratio but only under the condition that `MTOW_to_solve` is equal to zero, meaning we have a converged aircraft.\n",
    "\n",
    "All in all, there will be two design variables for this optimization which are going to be the **MTOW** and the **AR** so that we can find the optimum fuel consumption while ensuring we have a sized aircraft.\n",
    "\n",
    "Here, a couple problem arises from the formalism imposed by the `minimize` function:\n",
    "* The minimize function only works for objective functions that return a single scalar output which means that we won't be able to reuse `mtow_and_fuel_loop`\n",
    "* Since we want to ensure that the MTOW is converged, there will be two functions of interest that we provide the `minimize` function with. This imposes that both function have to have the same inputs.\n",
    "* `minimize` can only take a single object as optimization variable. It can however be a tuple or an array when the function takes in reality more than one variable. Their Python implementation though will need to use only a single variable if it is to be used with `minimize`. Consequently, we will need to reformat our functions so that it can take a tuple as input - tuple that will contain the **MTOW** in first position and the aspect ratio in second - and optimize the function using this tuple.\n",
    "\n",
    "The implementation of the function that returns the fuel consumed can go two ways. Either we reuse the `mtow_and_fuel_loop` that we modify to accept the right entry, or, create a function that runs the performance module with all the other module needed beforehand (geometry for wing area, aerodynamics for lift-to-drag-ratio and weight for **OWE**). The latter solution was chosen and was implemented in a function called `compute_fuel_scipy` located in the [compute_fuel_scipy.py file](modules/python_for_scipy/compute_fuel_scipy.py).\n",
    "\n",
    "The reformatting of the `mtow_loop` implementation is done in the [mtow_loop_scipy.py file](modules/python_for_scipy/mtow_loop_scipy.py). As with the original `mtow_loop` function we will then wrap it in a function that returns 0 when the aircraft is converged. This is done in the cell below."
   ]
  },
  {
   "cell_type": "code",
   "execution_count": null,
   "id": "92bf5c32",
   "metadata": {},
   "outputs": [],
   "source": [
    "from modules.python_for_scipy.mtow_loop_scipy import mtow_loop_scipy\n",
    "\n",
    "\n",
    "def MTOW_to_solve_scipy(\n",
    "    x, wing_loading, cruise_altitude, cruise_speed, mission_range, payload, tsfc\n",
    "):\n",
    "\n",
    "    MTOW_diff = (\n",
    "        mtow_loop_scipy(\n",
    "            x,\n",
    "            wing_loading,\n",
    "            cruise_altitude,\n",
    "            cruise_speed,\n",
    "            mission_range,\n",
    "            payload,\n",
    "            tsfc,\n",
    "        )\n",
    "        - x[0]\n",
    "    )\n",
    "\n",
    "    return MTOW_diff"
   ]
  },
  {
   "cell_type": "markdown",
   "id": "f5f2fb94",
   "metadata": {},
   "source": [
    "We won't be able to use this function to solve the simple MDA problem previously defined. Indeed, since our variable now consists of the **MTOW** and the aspect ratio, we cannot treat the aspect ratio as an argument and thus fix this value. \n",
    "\n",
    "Before moving on to the minimization of the fuel consumption, let's do a sanity check and ensure that the solution we found earlier for the MDA is still true (as it should)."
   ]
  },
  {
   "cell_type": "code",
   "execution_count": null,
   "id": "e7f0c972",
   "metadata": {},
   "outputs": [],
   "source": [
    "# The print should return 0\n",
    "x = (1065.8, 10.0)\n",
    "result = MTOW_to_solve_scipy(\n",
    "    x, wing_loading, cruise_altitude, cruise_speed, mission_range, payload, tsfc\n",
    ")\n",
    "print(\n",
    "    \"The results of a simple evaluation of the MTOW_to_solve_scipy is \", np.round(result, 1), \"kg\"\n",
    ")"
   ]
  },
  {
   "cell_type": "markdown",
   "id": "a93de501",
   "metadata": {},
   "source": [
    "Now that we've seen that the function still gives the expected results. Let's now redefine our optimization using the new implementation of the method and see what the results are."
   ]
  },
  {
   "cell_type": "code",
   "execution_count": null,
   "id": "65a84d95",
   "metadata": {},
   "outputs": [],
   "source": [
    "from scipy.optimize import minimize\n",
    "from modules.python_for_scipy.compute_fuel_scipy import compute_fuel_scipy\n",
    "\n",
    "# Let's start by defining an initial guess of the couple (MTOW, aspect_ratio), tough we now the solution, and\n",
    "# could thus accelrate the process, we will start at a different value to test the function.\n",
    "x0 = (500.0, 5.0)\n",
    "\n",
    "# We can now define the bound of the design variables of the optimization problem. Essentially there\n",
    "# are two constraints : both value must be positive, but to avoid looking for unfeasible value, we will\n",
    "# take the same bounds as the arrays previously used for solving the problems\n",
    "bnds = ((500.0, 5000.0), (1.0, 20.0))\n",
    "\n",
    "# We can also define the argument of the function\n",
    "arguments = (wing_loading, cruise_altitude, cruise_speed, mission_range, payload, tsfc)\n",
    "\n",
    "# Let's now define the constraints, MTOW_to_solve is equal to 0\n",
    "cons = {\"type\": \"eq\", \"fun\": MTOW_to_solve_scipy, \"args\": arguments}\n",
    "\n",
    "# We can now finally call the minimizer\n",
    "res = minimize(\n",
    "    compute_fuel_scipy, x0, method=\"SLSQP\", bounds=bnds, constraints=cons, args=arguments\n",
    ")\n",
    "\n",
    "print(\"Number of iterations necessary to find the minimum: \", res.nit)\n",
    "print(\"The optimized fuel consumption is equal to \", np.round(res.fun, 1), \"kg\")\n",
    "print(\"The corresponding aspect ratio is :\", np.round(res.x[1], 1))\n",
    "print(\"The corresponding MTOW is :\", np.round(res.x[0], 1), \"kg\")"
   ]
  },
  {
   "cell_type": "markdown",
   "id": "b5ab6173",
   "metadata": {},
   "source": [
    "The results we get are very close to the one we obtained with our optimization \"by hand\" both in term of the value of the optimization objective and in term of value of the design variable. Except that this time, we can get a more precise result, one not limited by the space between two elements in AR_array. We also managed to find a more accurate solution, with less iteration. Only 25 were necessary here whereas we had 100 elements in AR_array, which is a considerable step up.\n",
    "\n",
    "However the conclusion is pretty much the same as in the first notebook, we have to be careful of unit conversions. Besides data management will only get harder with more modules and the structure of the code is very rigid. For instance, we cannot easily find the optimum (aspect ratio, cruise speed) couple as in order to use the minimize function, the syntax of the function to `minimize` or in the constraints would need to be changed again be so that the variable to optimize comes first in an array and then the arguments (data that don't change value). This would force us to rewrite some of our functions."
   ]
  }
 ],
 "metadata": {
  "kernelspec": {
   "display_name": "Python 3 (ipykernel)",
   "language": "python",
   "name": "python3"
  },
  "language_info": {
   "codemirror_mode": {
    "name": "ipython",
    "version": 3
   },
   "file_extension": ".py",
   "mimetype": "text/x-python",
   "name": "python",
   "nbconvert_exporter": "python",
   "pygments_lexer": "ipython3",
   "version": "3.7.11"
  }
 },
 "nbformat": 4,
 "nbformat_minor": 5
}
