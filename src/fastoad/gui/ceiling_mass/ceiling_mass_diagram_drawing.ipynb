{
 "cells": [
  {
   "cell_type": "markdown",
   "id": "9fb9f013-e29b-4b26-978e-c1bc5dfe76a2",
   "metadata": {},
   "source": [
    "# Ceiling mass diagram drawing \n",
    "## Drawing of the ceiling-mass diagram"
   ]
  },
  {
   "cell_type": "code",
   "execution_count": null,
   "id": "0095d4c3-ac03-4671-b0c7-45887ae718d7",
   "metadata": {},
   "outputs": [],
   "source": [
    "import os.path as pth\n",
    "import fastoad.api as oad\n",
    "\n",
    "# OUTPUT file (and no configuration)\n",
    "# Those lines are used for accessing the results file\n",
    "DATA_FOLDER_PATH = \"./../data_folder\"\n",
    "SOURCE_FILE = pth.join(DATA_FOLDER_PATH, \"data_post_processing.xml\")\n",
    "CONFIGURATION_FILE = pth.join(DATA_FOLDER_PATH, \"oad_process.yml\")\n",
    "OUTPUT_FILE = pth.join(DATA_FOLDER_PATH, \"oad_process_outputs.xml\")"
   ]
  },
  {
   "cell_type": "markdown",
   "id": "7534fca0-db03-4d16-bc5f-21e99bb72f01",
   "metadata": {},
   "source": [
    "The main goal of this model is to compute and draw the Ceiling-mass diagram.\n",
    "\n",
    "On the graph, three lines are visible. The buffeting line, the climbing line and the cruise line.\n",
    "\n",
    "- 1. Buffeting line\n",
    "\n",
    "This line is drawn using the formula descriped in the AP $mg < 0.7pM^{2} S \\frac{Cz_{buffeting}}{1.3}$ (pp100). The factor 0.7 and 1.3 come from the \"30%\" margin taken from $Cz_{buffeting}$. With this formula, we can find the pressure and thus deduce the altitude. The value of $Cz_{buffeting}$ is known from the graph pp100 in the AP.\n",
    "\n",
    "- 2. Climbing line\n",
    "\n",
    "This line is drawn using the formula descriped in the AP (pp101). It is important to note that the terme $(1+\\frac{V}{g}.\\frac{dV}{dZ})_{iso_Mach}$ is supposed equal to 1 because hard to compute. \n",
    "The ascending speed is equal to 300 ft/min for a long range aircraft or 500 ft/min for the other ones. \n",
    "\n",
    "- 3. Ceiling line\n",
    "\n",
    "This line is drawn using the same formula as the one used for the Climbing line but in this case, the ascending speed is equal to 0 (which is not the case in the Climbing line). \n",
    "\n",
    "The black dotted lines are used to illustrate the ceiling altitude. It starts at the altitude of the MTOW and increase by step of 2000 ft. "
   ]
  },
  {
   "cell_type": "code",
   "execution_count": null,
   "id": "fa58117a-a759-4025-b036-acec9469eedc",
   "metadata": {},
   "outputs": [],
   "source": [
    "oad.generate_inputs(CONFIGURATION_FILE, SOURCE_FILE, overwrite=True)\n",
    "eval_problem = oad.evaluate_problem(CONFIGURATION_FILE, overwrite=True)"
   ]
  },
  {
   "cell_type": "code",
   "execution_count": null,
   "id": "af1c7670-3e75-4c23-be2d-b152db3feb00",
   "metadata": {},
   "outputs": [],
   "source": [
    "fig = oad.ceiling_mass_diagram_drawing_plot(OUTPUT_FILE)\n",
    "fig.show()"
   ]
  }
 ],
 "metadata": {
  "kernelspec": {
   "display_name": "Python 3 (ipykernel)",
   "language": "python",
   "name": "python3"
  },
  "language_info": {
   "codemirror_mode": {
    "name": "ipython",
    "version": 3
   },
   "file_extension": ".py",
   "mimetype": "text/x-python",
   "name": "python",
   "nbconvert_exporter": "python",
   "pygments_lexer": "ipython3",
   "version": "3.8.13"
  }
 },
 "nbformat": 4,
 "nbformat_minor": 5
}
