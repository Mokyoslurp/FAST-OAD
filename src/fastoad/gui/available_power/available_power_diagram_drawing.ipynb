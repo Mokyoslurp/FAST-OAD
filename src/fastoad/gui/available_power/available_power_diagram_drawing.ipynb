{
 "cells": [
  {
   "cell_type": "markdown",
   "id": "3f13d3ce-70fb-460d-a845-0ca1a4650697",
   "metadata": {},
   "source": [
    "# Available-power diagram drawing \n",
    "## Drawing of the available-power diagram\n"
   ]
  },
  {
   "cell_type": "code",
   "execution_count": null,
   "id": "b3fe2c52-6581-46b5-97b2-c8373a3fd0e7",
   "metadata": {},
   "outputs": [],
   "source": [
    "import os.path as pth\n",
    "import fastoad.api as oad\n",
    "\n",
    "# OUTPUT file (and no configuration)\n",
    "# Those lines are used for accessing the results file\n",
    "DATA_FOLDER_PATH = \"./../data_folder\"\n",
    "SOURCE_FILE = pth.join(DATA_FOLDER_PATH, \"data_post_processing.xml\")\n",
    "CONFIGURATION_FILE = pth.join(DATA_FOLDER_PATH, \"oad_process.yml\")\n",
    "OUTPUT_FILE = pth.join(DATA_FOLDER_PATH, \"oad_process_outputs.xml\")"
   ]
  },
  {
   "cell_type": "markdown",
   "id": "c4ff5a2f-4119-4e2a-b7ef-a714690d155a",
   "metadata": {},
   "source": [
    "The main goal of this model is to compute and draw the Available-power diagram.\n",
    "\n",
    "For the two altitude computed, the curves for the power available are drawn using the formula $AvailablePower = Drag . Speed = 0.5.\\rho.V^2.S.V$ while the curves for the maximum power are computed using the propuslion model already present in the program. \n",
    "\n",
    "Those curves are computed at the sea level and at the cruise altitude (given in the mission) both for the MTOW."
   ]
  },
  {
   "cell_type": "code",
   "execution_count": null,
   "id": "05f78653-69c8-4c88-9a17-47d16acfea55",
   "metadata": {},
   "outputs": [],
   "source": [
    "oad.generate_inputs(CONFIGURATION_FILE, SOURCE_FILE, overwrite=True)\n",
    "eval_problem = oad.evaluate_problem(CONFIGURATION_FILE, overwrite=True)"
   ]
  },
  {
   "cell_type": "code",
   "execution_count": null,
   "id": "1f154a81-1547-4bd4-a84f-72c7e437f085",
   "metadata": {},
   "outputs": [],
   "source": [
    "fig = oad.available_power_diagram_drawing_plot(OUTPUT_FILE)\n",
    "fig.show()"
   ]
  }
 ],
 "metadata": {
  "kernelspec": {
   "display_name": "Python 3 (ipykernel)",
   "language": "python",
   "name": "python3"
  },
  "language_info": {
   "codemirror_mode": {
    "name": "ipython",
    "version": 3
   },
   "file_extension": ".py",
   "mimetype": "text/x-python",
   "name": "python",
   "nbconvert_exporter": "python",
   "pygments_lexer": "ipython3",
   "version": "3.8.13"
  }
 },
 "nbformat": 4,
 "nbformat_minor": 5
}
