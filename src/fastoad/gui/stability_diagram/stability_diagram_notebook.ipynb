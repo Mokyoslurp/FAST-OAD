{
 "cells": [
  {
   "cell_type": "markdown",
   "id": "3f13d3ce-70fb-460d-a845-0ca1a4650697",
   "metadata": {},
   "source": [
    "# Stability diagram drawing \n",
    "## Drawing of the stability diagram\n"
   ]
  },
  {
   "cell_type": "code",
   "execution_count": null,
   "id": "b3fe2c52-6581-46b5-97b2-c8373a3fd0e7",
   "metadata": {},
   "outputs": [],
   "source": [
    "import os.path as pth\n",
    "import fastoad.api as oad\n",
    "\n",
    "# # OUTPUT file (and no configuration)\n",
    "# # Those lines are used for accessing the results file\n",
    "# DATA_FOLDER_PATH = \"./../speed_altitude/data\"\n",
    "# SOURCE_FILE = pth.join(DATA_FOLDER_PATH, \"data_post_processing.xml\")\n",
    "# CONFIGURATION_FILE = pth.join(DATA_FOLDER_PATH, \"oad_process.yml\")\n",
    "OUTPUT_FILE = pth.join(\"data\", \"problem_outputs.xml\")"
   ]
  },
  {
   "cell_type": "markdown",
   "id": "c4ff5a2f-4119-4e2a-b7ef-a714690d155a",
   "metadata": {},
   "source": [
    "The main goal of this model is to compute and draw the stability diagram which give an interval for the airplane's center of gravity. The same thing is presented in \n",
    "#TO DO : add comments\n",
    "\n"
   ]
  },
  {
   "cell_type": "code",
   "execution_count": null,
   "id": "1f154a81-1547-4bd4-a84f-72c7e437f085",
   "metadata": {},
   "outputs": [],
   "source": [
    "fig = oad.stability_diagram_plot(OUTPUT_FILE, name=\"Stability Diagram\")\n",
    "fig.show()"
   ]
  }
 ],
 "metadata": {
  "kernelspec": {
   "display_name": "Python 3 (ipykernel)",
   "language": "python",
   "name": "python3"
  },
  "language_info": {
   "codemirror_mode": {
    "name": "ipython",
    "version": 3
   },
   "file_extension": ".py",
   "mimetype": "text/x-python",
   "name": "python",
   "nbconvert_exporter": "python",
   "pygments_lexer": "ipython3",
   "version": "3.8.13"
  }
 },
 "nbformat": 4,
 "nbformat_minor": 5
}
