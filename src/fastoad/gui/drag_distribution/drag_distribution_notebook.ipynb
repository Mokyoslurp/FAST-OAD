{
 "cells": [
  {
   "cell_type": "markdown",
   "id": "5023a993",
   "metadata": {},
   "source": [
    "# FAST-OAD: Drag distribution tutorial\n",
    "## Sun plot of the drag distribution for high and low speed"
   ]
  },
  {
   "cell_type": "code",
   "execution_count": null,
   "id": "0a0883bc",
   "metadata": {},
   "outputs": [],
   "source": [
    "import os.path as pth\n",
    "import fastoad.api as oad"
   ]
  },
  {
   "cell_type": "markdown",
   "id": "a2e1c345-3e19-40e7-81d1-4d5c3b0ff465",
   "metadata": {},
   "source": [
    "This notebook shows an example on how to use the function drag_distribution_plot in the drag distribution folder. This function plots the drag distribution in two specific situations :\n",
    "\n",
    "- 1) high speed cruise : the mach number is the cruise mach and remains fixed. The drag distribution only depends on the Cl which is computed via the aircraft's altitude and mass. \n",
    "- 2) low speed : the mach number is the takeoff mach number and is fixed. The drag distribution only depends on the Cl which is computed via the aircraft's altitude and mass.\n",
    "- 3) Cl given: In the previous points, CL is computed via the mass and the altitude : CL = m*g/(0.5 rho V**2 S). It is possible to pass this step by directly give a CL in input."
   ]
  },
  {
   "cell_type": "code",
   "execution_count": null,
   "id": "e4121d51",
   "metadata": {},
   "outputs": [],
   "source": [
    "# OUTPUT file (and no configuration)\n",
    "# Those lines are used for accessing the results file\n",
    "OUTPUT_FILE = pth.join(\"data\", \"problem_outputs.xml\")"
   ]
  },
  {
   "cell_type": "markdown",
   "id": "7fae9280-e8c4-48b0-986b-ec3ff7d32ed8",
   "metadata": {},
   "source": [
    "The first example is in a cruise condition. \n",
    "\n",
    "The flight point considered is the cruise mach of 0.78 at an altitude of 10 000 m with an aircraft's mass of 70 000 kg (near MTOW). This gives a Cl of 0.5318. If the flight point chosen gives a Cl which exceeds the max Cl (1.5 in this case), then an error message is showed as this is the max Cl where the calculation is accurate. \n",
    "\n",
    "Indeed, the drag calculation takes into account the parasite drag, induced drag, drag due to compressiility effects and the trim drag (which is the drag coming from the horizontal trim stabilizer (Horizontal tail balances the moment created from the wings)). Nevertheless, there is some difference between this sum and the direct interpolation of Cd knowing Cl. A diagnostic is showed whenever the drag_distribution_plot is called.\n",
    "\n",
    "\n",
    "    def drag_distribution_plot(\n",
    "        aircraft_file_path: str,\n",
    "        aircraft_mass: float,\n",
    "        aircraft_altitude: float = 10668,\n",
    "        low_speed_aero=False,\n",
    "        CL =  None,\n",
    "        name=None,\n",
    "        file_formatter=None,\n",
    "        ) -> go.FigureWidget:"
   ]
  },
  {
   "cell_type": "code",
   "execution_count": null,
   "id": "b1e9c6a6-0317-42d2-a05a-b044772233ba",
   "metadata": {},
   "outputs": [],
   "source": [
    "fig = oad.drag_distribution_plot(\n",
    "    OUTPUT_FILE,\n",
    "    aircraft_mass=70000,\n",
    "    aircraft_altitude=10000,\n",
    "    low_speed_aero=False,\n",
    "    CL=None,\n",
    "    name=\"Plane name\",\n",
    "    file_formatter=None,\n",
    ")\n",
    "fig.show()"
   ]
  },
  {
   "cell_type": "markdown",
   "id": "b1e76801-c184-42eb-ada7-a9206dced433",
   "metadata": {},
   "source": [
    "The second example shows the drag distribution shows the drag distribution at a low speed. The mach number is the take-off mach number (here 0.2). One has to be logic in the choice of mass and altitude, since it is not possible to fly at Mach 0.2 at an altitude of 10 000 m with a mass near MTOW. \n",
    "When using the low_speed option, by putting low_speed_aero = True, one has to keep in mind that it is for low altitude configurations. Otherwise an error message is showed. "
   ]
  },
  {
   "cell_type": "code",
   "execution_count": null,
   "id": "ac8c1bd8-e1ad-4f55-bd7c-3ecfe9740106",
   "metadata": {},
   "outputs": [],
   "source": [
    "fig = oad.drag_distribution_plot(\n",
    "    OUTPUT_FILE,\n",
    "    aircraft_mass=40000,\n",
    "    aircraft_altitude=0,\n",
    "    low_speed_aero=True,\n",
    "    CL=None,\n",
    "    name=\"Plane name\",\n",
    "    file_formatter=None,\n",
    ")\n",
    "fig.show()"
   ]
  },
  {
   "cell_type": "markdown",
   "id": "db657d76-69a4-45c5-a3c8-9b2e1e35acdd",
   "metadata": {},
   "source": [
    "The third example bypasses the computation of the CL, by directly give it in input. Then, no need to specify the mass and altitude. CL given must not exceed the maximum CL in the output file."
   ]
  },
  {
   "cell_type": "code",
   "execution_count": null,
   "id": "d2e0efee-62f4-4ea4-9fe3-4f5dfce0ee9d",
   "metadata": {},
   "outputs": [],
   "source": [
    "fig = oad.drag_distribution_plot(\n",
    "    OUTPUT_FILE,\n",
    "    aircraft_mass=None,\n",
    "    aircraft_altitude=10000,\n",
    "    low_speed_aero=False,\n",
    "    CL=0.5,\n",
    "    name=\"Plane name\",\n",
    "    file_formatter=None,\n",
    ")\n",
    "fig.show()"
   ]
  },
  {
   "cell_type": "code",
   "execution_count": null,
   "id": "017d6099-a154-42d7-a1f7-433d33dcab99",
   "metadata": {},
   "outputs": [],
   "source": []
  }
 ],
 "metadata": {
  "kernelspec": {
   "display_name": "Python 3 (ipykernel)",
   "language": "python",
   "name": "python3"
  },
  "language_info": {
   "codemirror_mode": {
    "name": "ipython",
    "version": 3
   },
   "file_extension": ".py",
   "mimetype": "text/x-python",
   "name": "python",
   "nbconvert_exporter": "python",
   "pygments_lexer": "ipython3",
   "version": "3.8.13"
  }
 },
 "nbformat": 4,
 "nbformat_minor": 5
}
