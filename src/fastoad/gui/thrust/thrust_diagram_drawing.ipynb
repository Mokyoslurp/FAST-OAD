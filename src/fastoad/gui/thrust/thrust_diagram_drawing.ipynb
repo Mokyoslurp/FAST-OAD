{
 "cells": [
  {
   "cell_type": "markdown",
   "id": "c65315b0-e858-49c7-aa3a-6774ef581b23",
   "metadata": {},
   "source": [
    "# Thrust plot drawing \n",
    "## Drawing of the Thrust plot"
   ]
  },
  {
   "cell_type": "code",
   "execution_count": null,
   "id": "85cc5eea-7c6c-4c6d-b3e0-cfce95e836e9",
   "metadata": {},
   "outputs": [],
   "source": [
    "import os.path as pth\n",
    "import fastoad.api as oad\n",
    "\n",
    "# OUTPUT file (and no configuration)\n",
    "# Those lines are used for accessing the results file\n",
    "DATA_FOLDER_PATH = \"./../data_folder\"\n",
    "SOURCE_FILE = pth.join(DATA_FOLDER_PATH, \"data_post_processing.xml\")\n",
    "CONFIGURATION_FILE = pth.join(DATA_FOLDER_PATH, \"oad_process.yml\")\n",
    "OUTPUT_FILE = pth.join(DATA_FOLDER_PATH, \"oad_process_outputs.xml\")"
   ]
  },
  {
   "cell_type": "markdown",
   "id": "2357117a-8058-4272-a465-b37d671bd147",
   "metadata": {},
   "source": [
    "The main goal of this model is to compute and draw the Thrust plot of the aircraft.\n",
    "\n",
    "There are 4 graphs for this model : \n",
    "- 1. The thrust at rating 100% for different altitudes (0 ft, 10 000 ft, 20 000 ft, 30 000 ft, 40 000 ft)\n",
    "- 2. The thrust at 0 ft for different regimes of the engine (take-off, climb, cruise, idle)\n",
    "- 3. The SFC at rating 100% for different altitudes (0 ft, 10 000 ft, 20 000 ft, 30 000 ft, 40 000 ft)\n",
    "- 4. The SFC at 0 ft for different regimes of the engine (take-off, climb, cruise, idle)"
   ]
  },
  {
   "cell_type": "code",
   "execution_count": null,
   "id": "e8505efd-3191-4bb9-b01f-002333eadc34",
   "metadata": {},
   "outputs": [],
   "source": [
    "oad.generate_inputs(CONFIGURATION_FILE, SOURCE_FILE, overwrite=True)\n",
    "eval_problem = oad.evaluate_problem(CONFIGURATION_FILE, overwrite=True)"
   ]
  },
  {
   "cell_type": "code",
   "execution_count": null,
   "id": "996697f4-ebe8-4944-a20f-e2cb7eb12412",
   "metadata": {},
   "outputs": [],
   "source": [
    "fig = oad.thrust_diagram_drawing_plot(OUTPUT_FILE)[0]\n",
    "fig.show()"
   ]
  },
  {
   "cell_type": "code",
   "execution_count": null,
   "id": "7493e3f3-a282-4cd8-99ab-6d989e50e3f9",
   "metadata": {},
   "outputs": [],
   "source": [
    "fig2 = oad.thrust_diagram_drawing_plot(OUTPUT_FILE)[1]\n",
    "fig2.show()"
   ]
  },
  {
   "cell_type": "code",
   "execution_count": null,
   "id": "72bbde1a-d0e9-4156-b9c0-40d0787b2982",
   "metadata": {},
   "outputs": [],
   "source": [
    "fig3 = oad.thrust_diagram_drawing_plot(OUTPUT_FILE)[2]\n",
    "fig3.show()"
   ]
  },
  {
   "cell_type": "code",
   "execution_count": null,
   "id": "5c6213c9-ec39-4c2b-a873-c57b48f3e0c7",
   "metadata": {},
   "outputs": [],
   "source": [
    "fig4 = oad.thrust_diagram_drawing_plot(OUTPUT_FILE)[3]\n",
    "fig4.show()"
   ]
  }
 ],
 "metadata": {
  "kernelspec": {
   "display_name": "Python 3 (ipykernel)",
   "language": "python",
   "name": "python3"
  },
  "language_info": {
   "codemirror_mode": {
    "name": "ipython",
    "version": 3
   },
   "file_extension": ".py",
   "mimetype": "text/x-python",
   "name": "python",
   "nbconvert_exporter": "python",
   "pygments_lexer": "ipython3",
   "version": "3.8.13"
  }
 },
 "nbformat": 4,
 "nbformat_minor": 5
}
