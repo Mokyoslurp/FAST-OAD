{
 "cells": [
  {
   "cell_type": "markdown",
   "id": "9638ec46-b09c-4808-9827-351b29f9b1bc",
   "metadata": {},
   "source": [
    "# V-n diagram drawing \n",
    "## Drawing of the V-n diagram"
   ]
  },
  {
   "cell_type": "code",
   "execution_count": null,
   "id": "f0cfb216-4ca9-449f-8d87-fb34099bf608",
   "metadata": {},
   "outputs": [],
   "source": [
    "import os.path as pth\n",
    "import fastoad.api as oad\n",
    "\n",
    "# OUTPUT file (and no configuration)\n",
    "# Those lines are used for accessing the results file\n",
    "DATA_FOLDER_PATH = \"./../data_folder\"\n",
    "SOURCE_FILE = pth.join(DATA_FOLDER_PATH, \"data_post_processing.xml\")\n",
    "CONFIGURATION_FILE = pth.join(DATA_FOLDER_PATH, \"oad_process.yml\")\n",
    "OUTPUT_FILE = pth.join(DATA_FOLDER_PATH, \"oad_process_outputs.xml\")"
   ]
  },
  {
   "cell_type": "markdown",
   "id": "3001030f-0a2b-4598-bf1f-5ae5b8274630",
   "metadata": {},
   "source": [
    "The main goal of this model is to compute and draw the V-n diagram of the aircraft.\n",
    "The graph is computed for the two masses MTOW and MZFW.\n",
    "This graph is in fact a combined graph between : \n",
    "- The manoeuvre envelope bounded above and below by the aircraft's maximum load factor (given by the structure) and to the right by the diving speed of the aircraft.\n",
    "- The gust envelope given by the load factors tolerable by the aircraft, caused by a gust of wind of 25 ft/s and 50 ft/s.\n",
    "\n",
    "The combination of those two envelopes gives the flight envelope, in black. "
   ]
  },
  {
   "cell_type": "code",
   "execution_count": null,
   "id": "c8471537-20ac-407e-972e-3134efccb7e2",
   "metadata": {},
   "outputs": [],
   "source": [
    "oad.generate_inputs(CONFIGURATION_FILE, SOURCE_FILE, overwrite=True)\n",
    "eval_problem = oad.evaluate_problem(CONFIGURATION_FILE, overwrite=True)"
   ]
  },
  {
   "cell_type": "code",
   "execution_count": null,
   "id": "41499e1f-b980-41e4-b4d2-6d170e2fd3c4",
   "metadata": {},
   "outputs": [],
   "source": [
    "fig = oad.v_n_diagram_drawing_plot(OUTPUT_FILE)\n",
    "fig.show()"
   ]
  }
 ],
 "metadata": {
  "kernelspec": {
   "display_name": "Python 3 (ipykernel)",
   "language": "python",
   "name": "python3"
  },
  "language_info": {
   "codemirror_mode": {
    "name": "ipython",
    "version": 3
   },
   "file_extension": ".py",
   "mimetype": "text/x-python",
   "name": "python",
   "nbconvert_exporter": "python",
   "pygments_lexer": "ipython3",
   "version": "3.8.13"
  }
 },
 "nbformat": 4,
 "nbformat_minor": 5
}
