{
 "cells": [
  {
   "cell_type": "markdown",
   "id": "827e51ac-8394-4b67-ba13-3ac47710edc1",
   "metadata": {},
   "source": [
    "# Ceiling computation\n",
    "## Computation of the ceiling level of the aircraft for a given mass"
   ]
  },
  {
   "cell_type": "code",
   "execution_count": null,
   "id": "b10f3f80-5fdb-4f34-9fcd-b93b467cadf5",
   "metadata": {},
   "outputs": [],
   "source": [
    "import os.path as pth\n",
    "import fastoad.api as oad\n",
    "\n",
    "# OUTPUT file (and no configuration)\n",
    "# Those lines are used for accessing the results file\n",
    "DATA_FOLDER_PATH = \"data\"\n",
    "OUTPUT_FILE = pth.join(DATA_FOLDER_PATH, \"oad_process_outputs.xml\")"
   ]
  },
  {
   "cell_type": "markdown",
   "id": "8428890c-8b87-4535-842b-1282b116e1d1",
   "metadata": {},
   "source": [
    "The main goal of this model is to compute the ceiling level of the aircraft. To do so, two functions are definded in this model : "
   ]
  },
  {
   "cell_type": "markdown",
   "id": "b829971e-7e6f-40eb-858f-665a8113637a",
   "metadata": {},
   "source": [
    "- 1. \"thrust_minus_drag\"\n",
    "\n",
    "This function takes as argument the speed, the altitude and the mass of the aircraft, its wing area, the CL and CD vector and the propulsion model.\n",
    "Its goal is to compute the thrust and the drag of the aircraft for the given configuration (altitude, mass, speed,...). The function returns the difference between those two values. \n",
    "\n",
    "The value of the thrust is known thanks to the existing propulsion model which allows to know this thrust value for a given speed, altitude and thrust rate.\n",
    "\n",
    "The value of the drag is computed starting with the CL coefficient computed with CL = $\\frac{2.m.g}{\\rho . S_{wing} . V_{true}^2}$. Then, the value of the coefficient CD is interpolated with the value of CL computed and the two vectors CL and CD given in the output file. Knowing the value of the coefficient CD, it is possible to compute the drag. "
   ]
  },
  {
   "cell_type": "markdown",
   "id": "4c0dc353-5194-4217-8479-af5dcef2f2f4",
   "metadata": {},
   "source": [
    "- 2. \"get_ceiling\"\n",
    "\n",
    "As the function name indicates, the purpose here is to calculate the aircraft’s flight ceiling. This function takes as argument the mass, the wing area, the maximum CL_clean coefficient, and the cruise mach of the aircraft as well as the maximum mach number of the engine, the CL and CD vector and the propulsion model.\n",
    "\n",
    "The general idea in this function is to make an iteration loop on the altitude (starting at 20000 ft) and for each altitude, see if the thrust is bigger than the drag. For each altitude, the minimum and the maximum speed of the aircraft are computed and 25 values of speed (included in this interval) are tested. The iteration loop stops when no velocity value gives more thrust than the drag. \n",
    "\n",
    "The minimun value is the stall speed of the aircraft at the considered altitude while the maximum speed is the more restrictive one between the diving speed and the maximum engine supportable-speed.\n",
    "\n",
    "In order to know if the thrust is bigger than the drag, the function described in the first point is used."
   ]
  },
  {
   "cell_type": "code",
   "execution_count": null,
   "id": "d6ba2fd4-d9e9-47b6-945a-bb33a0094419",
   "metadata": {},
   "outputs": [],
   "source": [
    "oad.ceiling_mass_diagram_drawing_plot(OUTPUT_FILE)"
   ]
  }
 ],
 "metadata": {
  "kernelspec": {
   "display_name": "Python 3 (ipykernel)",
   "language": "python",
   "name": "python3"
  },
  "language_info": {
   "codemirror_mode": {
    "name": "ipython",
    "version": 3
   },
   "file_extension": ".py",
   "mimetype": "text/x-python",
   "name": "python",
   "nbconvert_exporter": "python",
   "pygments_lexer": "ipython3",
   "version": "3.8.13"
  }
 },
 "nbformat": 4,
 "nbformat_minor": 5
}
