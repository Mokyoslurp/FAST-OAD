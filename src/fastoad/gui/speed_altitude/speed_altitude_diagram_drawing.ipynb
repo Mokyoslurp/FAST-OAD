{
 "cells": [
  {
   "cell_type": "markdown",
   "id": "445c313e-c389-4c38-8b78-345a642e3c78",
   "metadata": {},
   "source": [
    "# Speed altitude diagram drawing \n",
    "## Drawing of the speed-altitude diagram"
   ]
  },
  {
   "cell_type": "code",
   "execution_count": null,
   "id": "177f246d-211f-4452-93c2-4d5025dd7749",
   "metadata": {},
   "outputs": [],
   "source": [
    "import os.path as pth\n",
    "import fastoad.api as oad\n",
    "\n",
    "# OUTPUT file (and no configuration)\n",
    "# Those lines are used for accessing the results file\n",
    "DATA_FOLDER_PATH = \"./../data_folder\"\n",
    "SOURCE_FILE = pth.join(DATA_FOLDER_PATH, \"data_post_processing.xml\")\n",
    "CONFIGURATION_FILE = pth.join(DATA_FOLDER_PATH, \"oad_process.yml\")\n",
    "OUTPUT_FILE = pth.join(DATA_FOLDER_PATH, \"oad_process_outputs.xml\")"
   ]
  },
  {
   "cell_type": "markdown",
   "id": "d6494164-6b86-4506-ae82-29bb61ee842a",
   "metadata": {},
   "source": [
    "The main goal of this model is to compute and draw the Speed-Altitude diagram of the aircraft. The current model shows, on the same graph, the curves for the MTOW and the MZFW. \n",
    "\n",
    "For a given mass, the graph is composed by three curves : \n",
    "\n",
    "- 1. The minimum speed\n",
    "\n",
    "The minimum speed is computed with the formula $V_{min} = \\frac{2.m.g}{\\rho.S_{wing}.Cl_{max}}$\n",
    "\n",
    "- 2. The maximum speed\n",
    "\n",
    "The maximum speed is, for each altitude, the minimum one between the diving speed of the aircraft, the maximum engine supportable-speed and the computed speed.\n",
    "The computed speed is computed with the function \"fsolve\". For each altitude, the model computes the difference between the drag and the thrust. The \"fsolve\" function returns a speed for which the thrust is equal to the drag. Depending on the altitude, the maximum speed is thus not always the same. On the graph, the three speeds are visible. \n",
    "\n",
    "- 3. The \"ceiling\" speed\n",
    "\n",
    "The maximum altitude reachable by the aircraft is the ceiling one. The \"ceiling\" speed is thus the speed for which the rate of climb is equal to 0. It is the upper limit of the graph. \n",
    "\n",
    "\n",
    "\n",
    "On the graph, the flight enveloppe is shown with a continuous line as well as the diving speed, the maximum engine supportable-speed and the computed speed."
   ]
  },
  {
   "cell_type": "code",
   "execution_count": null,
   "id": "4e87968e-3446-4d53-9167-c552dca3c45d",
   "metadata": {},
   "outputs": [],
   "source": [
    "oad.generate_inputs(CONFIGURATION_FILE, SOURCE_FILE, overwrite=True)\n",
    "eval_problem = oad.evaluate_problem(CONFIGURATION_FILE, overwrite=True)"
   ]
  },
  {
   "cell_type": "code",
   "execution_count": null,
   "id": "c29098d6-e9a4-4e97-95b4-75d8c5145248",
   "metadata": {},
   "outputs": [],
   "source": []
  },
  {
   "cell_type": "code",
   "execution_count": null,
   "id": "b4381e72-11ef-4533-9c59-19175fa2cbd4",
   "metadata": {},
   "outputs": [],
   "source": [
    "fig = oad.speed_altitude_diagram_drawing_plot(OUTPUT_FILE)\n",
    "fig.show()"
   ]
  },
  {
   "cell_type": "code",
   "execution_count": null,
   "id": "5d209405-15ea-461f-a566-d3ea0635044a",
   "metadata": {},
   "outputs": [],
   "source": []
  }
 ],
 "metadata": {
  "kernelspec": {
   "display_name": "Python 3 (ipykernel)",
   "language": "python",
   "name": "python3"
  },
  "language_info": {
   "codemirror_mode": {
    "name": "ipython",
    "version": 3
   },
   "file_extension": ".py",
   "mimetype": "text/x-python",
   "name": "python",
   "nbconvert_exporter": "python",
   "pygments_lexer": "ipython3",
   "version": "3.8.13"
  }
 },
 "nbformat": 4,
 "nbformat_minor": 5
}
